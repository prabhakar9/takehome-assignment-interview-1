{
  "nbformat": 4,
  "nbformat_minor": 0,
  "metadata": {
    "kernelspec": {
      "display_name": "Python 3",
      "language": "python",
      "name": "python3"
    },
    "language_info": {
      "codemirror_mode": {
        "name": "ipython",
        "version": 3
      },
      "file_extension": ".py",
      "mimetype": "text/x-python",
      "name": "python",
      "nbconvert_exporter": "python",
      "pygments_lexer": "ipython3",
      "version": "3.7.9"
    },
    "colab": {
      "name": "exploratory_data_analysis.ipynb",
      "provenance": [],
      "collapsed_sections": [],
      "toc_visible": true
    }
  },
  "cells": [
    {
      "cell_type": "code",
      "metadata": {
        "id": "2op6qslGJIVM"
      },
      "source": [
        "import os\n",
        "import re\n",
        "import collections\n",
        "import numpy as np\n",
        "import pandas as pd\n",
        "from sklearn.feature_extraction.text import ENGLISH_STOP_WORDS as stop_words\n",
        "import plotly.express as px\n",
        "import plotly.graph_objects as go\n",
        "from plotly.subplots import make_subplots"
      ],
      "execution_count": null,
      "outputs": []
    },
    {
      "cell_type": "code",
      "metadata": {
        "id": "x3QwFszVJIVQ"
      },
      "source": [
        "# If running on google colab:  Upload 'data.zip' file present in git repository to colab, uncomment below code and run it.\n",
        "# !unzip data.zip"
      ],
      "execution_count": null,
      "outputs": []
    },
    {
      "cell_type": "markdown",
      "metadata": {
        "id": "8jDOfSrDJIVS"
      },
      "source": [
        "# Load data"
      ]
    },
    {
      "cell_type": "code",
      "metadata": {
        "id": "DE9V9ZwYJIVT"
      },
      "source": [
        "# Path to documents.\n",
        "dir_path = os.getcwd()\n",
        "rel_path = \"data\"\n",
        "data_path = os.path.join(dir_path, rel_path)\n",
        "news_groups = [f for f in os.listdir(data_path)]"
      ],
      "execution_count": null,
      "outputs": []
    },
    {
      "cell_type": "code",
      "metadata": {
        "id": "Dn6_9jBkJIVW"
      },
      "source": [
        "# Preprocess data: Remove all special characters, convert to lower case.\n",
        "def data_preprocess(cur):\n",
        "        cur = cur.lower()\n",
        "        cur = re.sub(\"[^a-zA-Z,.']\", ' ', cur)\n",
        "        cur = re.sub('\\.\\.+', ' ', cur) \n",
        "        cur = \" \".join(cur.split())\n",
        "        return cur"
      ],
      "execution_count": null,
      "outputs": []
    },
    {
      "cell_type": "code",
      "metadata": {
        "id": "HD6PqhknJIVY"
      },
      "source": [
        "# Prepare dataset: Read data from docs. \n",
        "X = []\n",
        "y = []\n",
        "word_dictionary = {}\n",
        "\n",
        "for category in news_groups:\n",
        "    f_path = os.path.join(data_path,category)\n",
        "    \n",
        "    # Read data from all docs.\n",
        "    for files in os.listdir(f_path):\n",
        "        path = os.path.join(f_path,files)\n",
        "        with open(path,'r',errors='ignore',encoding=\"utf8\") as file:\n",
        "            cur_doc = data_preprocess(file.read().replace('\\n',' '))\n",
        "            X.append(cur_doc)\n",
        "            word_dictionary[category] = word_dictionary.get(category,'')+cur_doc\n",
        "        y.append(category)\n",
        "\n",
        "# Copy raw data to df dataframe.\n",
        "df = pd.DataFrame({'doc':X,\n",
        "                  'labels':y})"
      ],
      "execution_count": null,
      "outputs": []
    },
    {
      "cell_type": "code",
      "metadata": {
        "id": "AuPosd3cJIVe",
        "outputId": "71ec5e55-c9df-498f-b1de-42a5a21be23c",
        "colab": {
          "base_uri": "https://localhost:8080/",
          "height": 34
        }
      },
      "source": [
        "print('Number of documents:', len(X))"
      ],
      "execution_count": null,
      "outputs": [
        {
          "output_type": "stream",
          "text": [
            "Number of documents: 20417\n"
          ],
          "name": "stdout"
        }
      ]
    },
    {
      "cell_type": "markdown",
      "metadata": {
        "id": "DrlHzKqXJIVi"
      },
      "source": [
        "# Distribution of the data"
      ]
    },
    {
      "cell_type": "code",
      "metadata": {
        "id": "B_IkuBWHJIVj",
        "outputId": "28a91c9e-4011-4926-a098-fde92b59f658",
        "colab": {
          "base_uri": "https://localhost:8080/",
          "height": 471
        }
      },
      "source": [
        "# Histogram for news category labels.\n",
        "fig = px.histogram(df,x='labels',color='labels')\n",
        "fig.update_layout(\n",
        "    title={\n",
        "        'text': \"Number of documents per Category\",\n",
        "        'x':0.5,\n",
        "        'xanchor': 'center',\n",
        "        'yanchor': 'top'},\n",
        "    xaxis_title=\"News category\",\n",
        "    yaxis_title='Number of documents',\n",
        "    showlegend=False,\n",
        "    plot_bgcolor='linen'\n",
        ")\n",
        "fig.show()"
      ],
      "execution_count": null,
      "outputs": [
        {
          "output_type": "display_data",
          "data": {
            "image/svg+xml": "<svg class=\"main-svg\" xmlns=\"http://www.w3.org/2000/svg\" xmlns:xlink=\"http://www.w3.org/1999/xlink\" width=\"700\" height=\"450\" style=\"\" viewBox=\"0 0 700 450\"><rect x=\"0\" y=\"0\" width=\"700\" height=\"450\" style=\"fill: rgb(255, 255, 255); fill-opacity: 1;\"/><defs id=\"defs-2281fc\"><g class=\"clips\"><clipPath id=\"clip2281fcxyplot\" class=\"plotclip\"><rect width=\"540\" height=\"203\"/></clipPath><clipPath class=\"axesclip\" id=\"clip2281fcx\"><rect x=\"80\" y=\"0\" width=\"540\" height=\"450\"/></clipPath><clipPath class=\"axesclip\" id=\"clip2281fcy\"><rect x=\"0\" y=\"60\" width=\"700\" height=\"203\"/></clipPath><clipPath class=\"axesclip\" id=\"clip2281fcxy\"><rect x=\"80\" y=\"60\" width=\"540\" height=\"203\"/></clipPath></g><g class=\"gradients\"/></defs><g class=\"bglayer\"><rect class=\"bg\" x=\"80\" y=\"60\" width=\"540\" height=\"203\" style=\"fill: rgb(250, 240, 230); fill-opacity: 1; stroke-width: 0;\"/></g><g class=\"layer-below\"><g class=\"imagelayer\"/><g class=\"shapelayer\"/></g><g class=\"cartesianlayer\"><g class=\"subplot xy\"><g class=\"layer-subplot\"><g class=\"shapelayer\"/><g class=\"imagelayer\"/></g><g class=\"gridlayer\"><g class=\"x\"/><g class=\"y\"><path class=\"ygrid crisp\" transform=\"translate(0,180.66)\" d=\"M80,0h540\" style=\"stroke: rgb(255, 255, 255); stroke-opacity: 1; stroke-width: 1px;\"/><path class=\"ygrid crisp\" transform=\"translate(0,98.31)\" d=\"M80,0h540\" style=\"stroke: rgb(255, 255, 255); stroke-opacity: 1; stroke-width: 1px;\"/></g></g><g class=\"zerolinelayer\"><path class=\"yzl zl crisp\" transform=\"translate(0,263)\" d=\"M80,0h540\" style=\"stroke: rgb(255, 255, 255); stroke-opacity: 1; stroke-width: 2px;\"/></g><path class=\"xlines-below\"/><path class=\"ylines-below\"/><g class=\"overlines-below\"/><g class=\"xaxislayer-below\"/><g class=\"yaxislayer-below\"/><g class=\"overaxes-below\"/><g class=\"plot\" transform=\"translate(80, 60)\" clip-path=\"url('#clip2281fcxyplot')\"><g class=\"barlayer mlayer\"><g class=\"trace bars\" style=\"opacity: 1;\"><g class=\"points\"><g class=\"point\"><path d=\"M2.7,203V36.66H24.3V203Z\" style=\"vector-effect: non-scaling-stroke; opacity: 1; stroke-width: 0px; fill: rgb(99, 110, 250); fill-opacity: 1;\"/></g></g></g><g class=\"trace bars\" style=\"opacity: 1;\"><g class=\"points\"><g class=\"point\"><path d=\"M29.7,203V38.31H51.3V203Z\" style=\"vector-effect: non-scaling-stroke; opacity: 1; stroke-width: 0px; fill: rgb(239, 85, 59); fill-opacity: 1;\"/></g></g></g><g class=\"trace bars\" style=\"opacity: 1;\"><g class=\"points\"><g class=\"point\"><path d=\"M56.7,203V36.99H78.3V203Z\" style=\"vector-effect: non-scaling-stroke; opacity: 1; stroke-width: 0px; fill: rgb(0, 204, 150); fill-opacity: 1;\"/></g></g></g><g class=\"trace bars\" style=\"opacity: 1;\"><g class=\"points\"><g class=\"point\"><path d=\"M83.7,203V35.84H105.3V203Z\" style=\"vector-effect: non-scaling-stroke; opacity: 1; stroke-width: 0px; fill: rgb(171, 99, 250); fill-opacity: 1;\"/></g></g></g><g class=\"trace bars\" style=\"opacity: 1;\"><g class=\"points\"><g class=\"point\"><path d=\"M110.7,203V37.98H132.3V203Z\" style=\"vector-effect: non-scaling-stroke; opacity: 1; stroke-width: 0px; fill: rgb(255, 161, 90); fill-opacity: 1;\"/></g></g></g><g class=\"trace bars\" style=\"opacity: 1;\"><g class=\"points\"><g class=\"point\"><path d=\"M137.7,203V10.15H159.3V203Z\" style=\"vector-effect: non-scaling-stroke; opacity: 1; stroke-width: 0px; fill: rgb(25, 211, 243); fill-opacity: 1;\"/></g></g></g><g class=\"trace bars\" style=\"opacity: 1;\"><g class=\"points\"><g class=\"point\"><path d=\"M164.7,203V29.75H186.3V203Z\" style=\"vector-effect: non-scaling-stroke; opacity: 1; stroke-width: 0px; fill: rgb(255, 102, 146); fill-opacity: 1;\"/></g></g></g><g class=\"trace bars\" style=\"opacity: 1;\"><g class=\"points\"><g class=\"point\"><path d=\"M191.7,203V38.31H213.3V203Z\" style=\"vector-effect: non-scaling-stroke; opacity: 1; stroke-width: 0px; fill: rgb(182, 232, 128); fill-opacity: 1;\"/></g></g></g><g class=\"trace bars\" style=\"opacity: 1;\"><g class=\"points\"><g class=\"point\"><path d=\"M218.7,203V35.68H240.3V203Z\" style=\"vector-effect: non-scaling-stroke; opacity: 1; stroke-width: 0px; fill: rgb(255, 151, 255); fill-opacity: 1;\"/></g></g></g><g class=\"trace bars\" style=\"opacity: 1;\"><g class=\"points\"><g class=\"point\"><path d=\"M245.7,203V38.31H267.3V203Z\" style=\"vector-effect: non-scaling-stroke; opacity: 1; stroke-width: 0px; fill: rgb(254, 203, 82); fill-opacity: 1;\"/></g></g></g><g class=\"trace bars\" style=\"opacity: 1;\"><g class=\"points\"><g class=\"point\"><path d=\"M272.7,203V17.89H294.3V203Z\" style=\"vector-effect: non-scaling-stroke; opacity: 1; stroke-width: 0px; fill: rgb(99, 110, 250); fill-opacity: 1;\"/></g></g></g><g class=\"trace bars\" style=\"opacity: 1;\"><g class=\"points\"><g class=\"point\"><path d=\"M299.7,203V38.31H321.3V203Z\" style=\"vector-effect: non-scaling-stroke; opacity: 1; stroke-width: 0px; fill: rgb(239, 85, 59); fill-opacity: 1;\"/></g></g></g><g class=\"trace bars\" style=\"opacity: 1;\"><g class=\"points\"><g class=\"point\"><path d=\"M326.7,203V38.81H348.3V203Z\" style=\"vector-effect: non-scaling-stroke; opacity: 1; stroke-width: 0px; fill: rgb(0, 204, 150); fill-opacity: 1;\"/></g></g></g><g class=\"trace bars\" style=\"opacity: 1;\"><g class=\"points\"><g class=\"point\"><path d=\"M353.7,203V38.31H375.3V203Z\" style=\"vector-effect: non-scaling-stroke; opacity: 1; stroke-width: 0px; fill: rgb(171, 99, 250); fill-opacity: 1;\"/></g></g></g><g class=\"trace bars\" style=\"opacity: 1;\"><g class=\"points\"><g class=\"point\"><path d=\"M380.7,203V37.98H402.3V203Z\" style=\"vector-effect: non-scaling-stroke; opacity: 1; stroke-width: 0px; fill: rgb(255, 161, 90); fill-opacity: 1;\"/></g></g></g><g class=\"trace bars\" style=\"opacity: 1;\"><g class=\"points\"><g class=\"point\"><path d=\"M407.7,203V38.15H429.3V203Z\" style=\"vector-effect: non-scaling-stroke; opacity: 1; stroke-width: 0px; fill: rgb(25, 211, 243); fill-opacity: 1;\"/></g></g></g><g class=\"trace bars\" style=\"opacity: 1;\"><g class=\"points\"><g class=\"point\"><path d=\"M434.7,203V36.5H456.3V203Z\" style=\"vector-effect: non-scaling-stroke; opacity: 1; stroke-width: 0px; fill: rgb(255, 102, 146); fill-opacity: 1;\"/></g></g></g><g class=\"trace bars\" style=\"opacity: 1;\"><g class=\"points\"><g class=\"point\"><path d=\"M461.7,203V37.82H483.3V203Z\" style=\"vector-effect: non-scaling-stroke; opacity: 1; stroke-width: 0px; fill: rgb(182, 232, 128); fill-opacity: 1;\"/></g></g></g><g class=\"trace bars\" style=\"opacity: 1;\"><g class=\"points\"><g class=\"point\"><path d=\"M488.7,203V38.15H510.3V203Z\" style=\"vector-effect: non-scaling-stroke; opacity: 1; stroke-width: 0px; fill: rgb(255, 151, 255); fill-opacity: 1;\"/></g></g></g><g class=\"trace bars\" style=\"opacity: 1;\"><g class=\"points\"><g class=\"point\"><path d=\"M515.7,203V37.65H537.3V203Z\" style=\"vector-effect: non-scaling-stroke; opacity: 1; stroke-width: 0px; fill: rgb(254, 203, 82); fill-opacity: 1;\"/></g></g></g></g></g><g class=\"overplot\"/><path class=\"xlines-above crisp\" d=\"M0,0\" style=\"fill: none;\"/><path class=\"ylines-above crisp\" d=\"M0,0\" style=\"fill: none;\"/><g class=\"overlines-above\"/><g class=\"xaxislayer-above\"><g class=\"xtick\"><text text-anchor=\"start\" x=\"0\" y=\"276\" transform=\"translate(93.5,0) rotate(90,0,270)\" style=\"font-family: 'Open Sans', verdana, arial, sans-serif; font-size: 12px; fill: rgb(42, 63, 95); fill-opacity: 1; white-space: pre;\">misc.forsale</text></g><g class=\"xtick\"><text text-anchor=\"start\" x=\"0\" y=\"276\" transform=\"translate(120.5,0) rotate(90,0,270)\" style=\"font-family: 'Open Sans', verdana, arial, sans-serif; font-size: 12px; fill: rgb(42, 63, 95); fill-opacity: 1; white-space: pre;\">rec.sport.baseball</text></g><g class=\"xtick\"><text text-anchor=\"start\" x=\"0\" y=\"276\" transform=\"translate(147.5,0) rotate(90,0,270)\" style=\"font-family: 'Open Sans', verdana, arial, sans-serif; font-size: 12px; fill: rgb(42, 63, 95); fill-opacity: 1; white-space: pre;\">sci.electronics</text></g><g class=\"xtick\"><text text-anchor=\"start\" x=\"0\" y=\"276\" transform=\"translate(174.5,0) rotate(90,0,270)\" style=\"font-family: 'Open Sans', verdana, arial, sans-serif; font-size: 12px; fill: rgb(42, 63, 95); fill-opacity: 1; white-space: pre;\">comp.sys.ibm.pc.hardware</text></g><g class=\"xtick\"><text text-anchor=\"start\" x=\"0\" y=\"276\" transform=\"translate(201.5,0) rotate(90,0,270)\" style=\"font-family: 'Open Sans', verdana, arial, sans-serif; font-size: 12px; fill: rgb(42, 63, 95); fill-opacity: 1; white-space: pre;\">comp.sys.mac.hardware</text></g><g class=\"xtick\"><text text-anchor=\"start\" x=\"0\" y=\"276\" transform=\"translate(228.5,0) rotate(90,0,270)\" style=\"font-family: 'Open Sans', verdana, arial, sans-serif; font-size: 12px; fill: rgb(42, 63, 95); fill-opacity: 1; white-space: pre;\">talk.politics.misc</text></g><g class=\"xtick\"><text text-anchor=\"start\" x=\"0\" y=\"276\" transform=\"translate(255.5,0) rotate(90,0,270)\" style=\"font-family: 'Open Sans', verdana, arial, sans-serif; font-size: 12px; fill: rgb(42, 63, 95); fill-opacity: 1; white-space: pre;\">talk.politics.guns</text></g><g class=\"xtick\"><text text-anchor=\"start\" x=\"0\" y=\"276\" transform=\"translate(282.5,0) rotate(90,0,270)\" style=\"font-family: 'Open Sans', verdana, arial, sans-serif; font-size: 12px; fill: rgb(42, 63, 95); fill-opacity: 1; white-space: pre;\">rec.sport.hockey</text></g><g class=\"xtick\"><text text-anchor=\"start\" x=\"0\" y=\"276\" transform=\"translate(309.5,0) rotate(90,0,270)\" style=\"font-family: 'Open Sans', verdana, arial, sans-serif; font-size: 12px; fill: rgb(42, 63, 95); fill-opacity: 1; white-space: pre;\">alt.atheism</text></g><g class=\"xtick\"><text text-anchor=\"start\" x=\"0\" y=\"276\" transform=\"translate(336.5,0) rotate(90,0,270)\" style=\"font-family: 'Open Sans', verdana, arial, sans-serif; font-size: 12px; fill: rgb(42, 63, 95); fill-opacity: 1; white-space: pre;\">rec.motorcycles</text></g><g class=\"xtick\"><text text-anchor=\"start\" x=\"0\" y=\"276\" transform=\"translate(363.5,0) rotate(90,0,270)\" style=\"font-family: 'Open Sans', verdana, arial, sans-serif; font-size: 12px; fill: rgb(42, 63, 95); fill-opacity: 1; white-space: pre;\">talk.religion.misc</text></g><g class=\"xtick\"><text text-anchor=\"start\" x=\"0\" y=\"276\" transform=\"translate(390.5,0) rotate(90,0,270)\" style=\"font-family: 'Open Sans', verdana, arial, sans-serif; font-size: 12px; fill: rgb(42, 63, 95); fill-opacity: 1; white-space: pre;\">sci.crypt</text></g><g class=\"xtick\"><text text-anchor=\"start\" x=\"0\" y=\"276\" transform=\"translate(417.5,0) rotate(90,0,270)\" style=\"font-family: 'Open Sans', verdana, arial, sans-serif; font-size: 12px; fill: rgb(42, 63, 95); fill-opacity: 1; white-space: pre;\">soc.religion.christian</text></g><g class=\"xtick\"><text text-anchor=\"start\" x=\"0\" y=\"276\" transform=\"translate(444.5,0) rotate(90,0,270)\" style=\"font-family: 'Open Sans', verdana, arial, sans-serif; font-size: 12px; fill: rgb(42, 63, 95); fill-opacity: 1; white-space: pre;\">sci.med</text></g><g class=\"xtick\"><text text-anchor=\"start\" x=\"0\" y=\"276\" transform=\"translate(471.5,0) rotate(90,0,270)\" style=\"font-family: 'Open Sans', verdana, arial, sans-serif; font-size: 12px; fill: rgb(42, 63, 95); fill-opacity: 1; white-space: pre;\">comp.windows.x</text></g><g class=\"xtick\"><text text-anchor=\"start\" x=\"0\" y=\"276\" transform=\"translate(498.5,0) rotate(90,0,270)\" style=\"font-family: 'Open Sans', verdana, arial, sans-serif; font-size: 12px; fill: rgb(42, 63, 95); fill-opacity: 1; white-space: pre;\">sci.space</text></g><g class=\"xtick\"><text text-anchor=\"start\" x=\"0\" y=\"276\" transform=\"translate(525.5,0) rotate(90,0,270)\" style=\"font-family: 'Open Sans', verdana, arial, sans-serif; font-size: 12px; fill: rgb(42, 63, 95); fill-opacity: 1; white-space: pre;\">comp.graphics</text></g><g class=\"xtick\"><text text-anchor=\"start\" x=\"0\" y=\"276\" transform=\"translate(552.5,0) rotate(90,0,270)\" style=\"font-family: 'Open Sans', verdana, arial, sans-serif; font-size: 12px; fill: rgb(42, 63, 95); fill-opacity: 1; white-space: pre;\">talk.politics.mideast</text></g><g class=\"xtick\"><text text-anchor=\"start\" x=\"0\" y=\"276\" transform=\"translate(579.5,0) rotate(90,0,270)\" style=\"font-family: 'Open Sans', verdana, arial, sans-serif; font-size: 12px; fill: rgb(42, 63, 95); fill-opacity: 1; white-space: pre;\">comp.os.ms-windows.misc</text></g><g class=\"xtick\"><text text-anchor=\"start\" x=\"0\" y=\"276\" transform=\"translate(606.5,0) rotate(90,0,270)\" style=\"font-family: 'Open Sans', verdana, arial, sans-serif; font-size: 12px; fill: rgb(42, 63, 95); fill-opacity: 1; white-space: pre;\">rec.autos</text></g></g><g class=\"yaxislayer-above\"><g class=\"ytick\"><text text-anchor=\"end\" x=\"79\" y=\"4.199999999999999\" transform=\"translate(0,263)\" style=\"font-family: 'Open Sans', verdana, arial, sans-serif; font-size: 12px; fill: rgb(42, 63, 95); fill-opacity: 1; white-space: pre;\">0</text></g><g class=\"ytick\"><text text-anchor=\"end\" x=\"79\" y=\"4.199999999999999\" transform=\"translate(0,180.66)\" style=\"font-family: 'Open Sans', verdana, arial, sans-serif; font-size: 12px; fill: rgb(42, 63, 95); fill-opacity: 1; white-space: pre;\">500</text></g><g class=\"ytick\"><text text-anchor=\"end\" x=\"79\" y=\"4.199999999999999\" transform=\"translate(0,98.31)\" style=\"font-family: 'Open Sans', verdana, arial, sans-serif; font-size: 12px; fill: rgb(42, 63, 95); fill-opacity: 1; white-space: pre;\">1000</text></g></g><g class=\"overaxes-above\"/></g></g><g class=\"polarlayer\"/><g class=\"ternarylayer\"/><g class=\"geolayer\"/><g class=\"funnelarealayer\"/><g class=\"pielayer\"/><g class=\"treemaplayer\"/><g class=\"sunburstlayer\"/><g class=\"glimages\"/><defs id=\"topdefs-2281fc\"><g class=\"clips\"/></defs><g class=\"layer-above\"><g class=\"imagelayer\"/><g class=\"shapelayer\"/></g><g class=\"infolayer\"><g class=\"g-gtitle\"><text class=\"gtitle\" x=\"350\" y=\"30\" text-anchor=\"middle\" dy=\"0.7em\" style=\"font-family: 'Open Sans', verdana, arial, sans-serif; font-size: 17px; fill: rgb(42, 63, 95); opacity: 1; font-weight: normal; white-space: pre;\">Number of documents per Category</text></g><g class=\"g-xtitle\"><text class=\"xtitle\" x=\"350\" y=\"437.846875\" text-anchor=\"middle\" style=\"font-family: 'Open Sans', verdana, arial, sans-serif; font-size: 14px; fill: rgb(42, 63, 95); opacity: 1; font-weight: normal; white-space: pre;\">News category</text></g><g class=\"g-ytitle\"><text class=\"ytitle\" transform=\"rotate(-90,27.496875000000003,161.5)\" x=\"27.496875000000003\" y=\"161.5\" text-anchor=\"middle\" style=\"font-family: 'Open Sans', verdana, arial, sans-serif; font-size: 14px; fill: rgb(42, 63, 95); opacity: 1; font-weight: normal; white-space: pre;\">Number of documents</text></g></g></svg>"
          },
          "metadata": {
            "tags": []
          }
        }
      ]
    },
    {
      "cell_type": "markdown",
      "metadata": {
        "id": "1fySgSehJIVr"
      },
      "source": [
        "As we can see from above figure, there are over 1000 documents for each new category. Also, the data is evenly distributed without any imbalance. \n",
        "\n",
        "Category soc.religion.christian has minimum number of documents: 997\n",
        "\n",
        "Category talk.politics.misc has maximum number of documents: 1171\n",
        "\n"
      ]
    },
    {
      "cell_type": "markdown",
      "metadata": {
        "id": "FAF8O9LKJIVt"
      },
      "source": [
        "# Average document word count per category"
      ]
    },
    {
      "cell_type": "code",
      "metadata": {
        "id": "nKWRenF3JIVu",
        "outputId": "604f0c5e-12a5-43c3-ec8e-c4fc55ea9753",
        "colab": {
          "base_uri": "https://localhost:8080/",
          "height": 471
        }
      },
      "source": [
        "# get unique news categories.(20)\n",
        "categories = df[\"labels\"].unique()\n",
        "aux = []\n",
        "\n",
        "# Get average word count for each category.\n",
        "for i in categories:\n",
        "    df_aux = df[df[\"labels\"] == i]\n",
        "    aux.append(np.mean(df_aux['doc'].apply(lambda x : len(x.split()))))\n",
        "\n",
        "df_aux = pd.DataFrame({\n",
        "    \"Category\" : categories,\n",
        "    \"Average\": aux})\n",
        "\n",
        "# Plot news category vs average word count.\n",
        "fig = px.bar(df_aux,x=\"Category\", y=\"Average\",color=\"Category\")\n",
        "fig.update_layout(\n",
        "    title={\n",
        "        'text': \"Average document word length by Category\",\n",
        "        'x':0.5,\n",
        "        'xanchor': 'center',\n",
        "        'yanchor': 'top'},\n",
        "    yaxis_title=\"Average word count\",\n",
        "    xaxis_title='News category',\n",
        "    showlegend=False,\n",
        "    plot_bgcolor='linen'\n",
        ")\n",
        "fig.show()"
      ],
      "execution_count": null,
      "outputs": [
        {
          "output_type": "display_data",
          "data": {
            "image/svg+xml": "<svg class=\"main-svg\" xmlns=\"http://www.w3.org/2000/svg\" xmlns:xlink=\"http://www.w3.org/1999/xlink\" width=\"700\" height=\"450\" style=\"\" viewBox=\"0 0 700 450\"><rect x=\"0\" y=\"0\" width=\"700\" height=\"450\" style=\"fill: rgb(255, 255, 255); fill-opacity: 1;\"/><defs id=\"defs-dbda59\"><g class=\"clips\"><clipPath id=\"clipdbda59xyplot\" class=\"plotclip\"><rect width=\"540\" height=\"203\"/></clipPath><clipPath class=\"axesclip\" id=\"clipdbda59x\"><rect x=\"80\" y=\"0\" width=\"540\" height=\"450\"/></clipPath><clipPath class=\"axesclip\" id=\"clipdbda59y\"><rect x=\"0\" y=\"60\" width=\"700\" height=\"203\"/></clipPath><clipPath class=\"axesclip\" id=\"clipdbda59xy\"><rect x=\"80\" y=\"60\" width=\"540\" height=\"203\"/></clipPath></g><g class=\"gradients\"/></defs><g class=\"bglayer\"><rect class=\"bg\" x=\"80\" y=\"60\" width=\"540\" height=\"203\" style=\"fill: rgb(250, 240, 230); fill-opacity: 1; stroke-width: 0;\"/></g><g class=\"layer-below\"><g class=\"imagelayer\"/><g class=\"shapelayer\"/></g><g class=\"cartesianlayer\"><g class=\"subplot xy\"><g class=\"layer-subplot\"><g class=\"shapelayer\"/><g class=\"imagelayer\"/></g><g class=\"gridlayer\"><g class=\"x\"/><g class=\"y\"><path class=\"ygrid crisp\" transform=\"translate(0,222.16)\" d=\"M80,0h540\" style=\"stroke: rgb(255, 255, 255); stroke-opacity: 1; stroke-width: 1px;\"/><path class=\"ygrid crisp\" transform=\"translate(0,181.32)\" d=\"M80,0h540\" style=\"stroke: rgb(255, 255, 255); stroke-opacity: 1; stroke-width: 1px;\"/><path class=\"ygrid crisp\" transform=\"translate(0,140.48000000000002)\" d=\"M80,0h540\" style=\"stroke: rgb(255, 255, 255); stroke-opacity: 1; stroke-width: 1px;\"/><path class=\"ygrid crisp\" transform=\"translate(0,99.65)\" d=\"M80,0h540\" style=\"stroke: rgb(255, 255, 255); stroke-opacity: 1; stroke-width: 1px;\"/></g></g><g class=\"zerolinelayer\"><path class=\"yzl zl crisp\" transform=\"translate(0,263)\" d=\"M80,0h540\" style=\"stroke: rgb(255, 255, 255); stroke-opacity: 1; stroke-width: 2px;\"/></g><path class=\"xlines-below\"/><path class=\"ylines-below\"/><g class=\"overlines-below\"/><g class=\"xaxislayer-below\"/><g class=\"yaxislayer-below\"/><g class=\"overaxes-below\"/><g class=\"plot\" transform=\"translate(80, 60)\" clip-path=\"url('#clipdbda59xyplot')\"><g class=\"barlayer mlayer\"><g class=\"trace bars\" style=\"opacity: 1;\"><g class=\"points\"><g class=\"point\"><path d=\"M2.7,203V156.34H24.3V203Z\" style=\"vector-effect: non-scaling-stroke; opacity: 1; stroke-width: 0.5px; fill: rgb(99, 110, 250); fill-opacity: 1; stroke: rgb(229, 236, 246); stroke-opacity: 1;\"/></g></g></g><g class=\"trace bars\" style=\"opacity: 1;\"><g class=\"points\"><g class=\"point\"><path d=\"M29.7,203V120.94H51.3V203Z\" style=\"vector-effect: non-scaling-stroke; opacity: 1; stroke-width: 0.5px; fill: rgb(239, 85, 59); fill-opacity: 1; stroke: rgb(229, 236, 246); stroke-opacity: 1;\"/></g></g></g><g class=\"trace bars\" style=\"opacity: 1;\"><g class=\"points\"><g class=\"point\"><path d=\"M56.7,203V128.94H78.3V203Z\" style=\"vector-effect: non-scaling-stroke; opacity: 1; stroke-width: 0.5px; fill: rgb(0, 204, 150); fill-opacity: 1; stroke: rgb(229, 236, 246); stroke-opacity: 1;\"/></g></g></g><g class=\"trace bars\" style=\"opacity: 1;\"><g class=\"points\"><g class=\"point\"><path d=\"M83.7,203V132.43H105.3V203Z\" style=\"vector-effect: non-scaling-stroke; opacity: 1; stroke-width: 0.5px; fill: rgb(171, 99, 250); fill-opacity: 1; stroke: rgb(229, 236, 246); stroke-opacity: 1;\"/></g></g></g><g class=\"trace bars\" style=\"opacity: 1;\"><g class=\"points\"><g class=\"point\"><path d=\"M110.7,203V137.81H132.3V203Z\" style=\"vector-effect: non-scaling-stroke; opacity: 1; stroke-width: 0.5px; fill: rgb(255, 161, 90); fill-opacity: 1; stroke: rgb(229, 236, 246); stroke-opacity: 1;\"/></g></g></g><g class=\"trace bars\" style=\"opacity: 1;\"><g class=\"points\"><g class=\"point\"><path d=\"M137.7,203V51.12H159.3V203Z\" style=\"vector-effect: non-scaling-stroke; opacity: 1; stroke-width: 0.5px; fill: rgb(25, 211, 243); fill-opacity: 1; stroke: rgb(229, 236, 246); stroke-opacity: 1;\"/></g></g></g><g class=\"trace bars\" style=\"opacity: 1;\"><g class=\"points\"><g class=\"point\"><path d=\"M164.7,203V80.22H186.3V203Z\" style=\"vector-effect: non-scaling-stroke; opacity: 1; stroke-width: 0.5px; fill: rgb(255, 102, 146); fill-opacity: 1; stroke: rgb(229, 236, 246); stroke-opacity: 1;\"/></g></g></g><g class=\"trace bars\" style=\"opacity: 1;\"><g class=\"points\"><g class=\"point\"><path d=\"M191.7,203V108.2H213.3V203Z\" style=\"vector-effect: non-scaling-stroke; opacity: 1; stroke-width: 0.5px; fill: rgb(182, 232, 128); fill-opacity: 1; stroke: rgb(229, 236, 246); stroke-opacity: 1;\"/></g></g></g><g class=\"trace bars\" style=\"opacity: 1;\"><g class=\"points\"><g class=\"point\"><path d=\"M218.7,203V77.21H240.3V203Z\" style=\"vector-effect: non-scaling-stroke; opacity: 1; stroke-width: 0.5px; fill: rgb(255, 151, 255); fill-opacity: 1; stroke: rgb(229, 236, 246); stroke-opacity: 1;\"/></g></g></g><g class=\"trace bars\" style=\"opacity: 1;\"><g class=\"points\"><g class=\"point\"><path d=\"M245.7,203V132.01H267.3V203Z\" style=\"vector-effect: non-scaling-stroke; opacity: 1; stroke-width: 0.5px; fill: rgb(254, 203, 82); fill-opacity: 1; stroke: rgb(229, 236, 246); stroke-opacity: 1;\"/></g></g></g><g class=\"trace bars\" style=\"opacity: 1;\"><g class=\"points\"><g class=\"point\"><path d=\"M272.7,203V77.65H294.3V203Z\" style=\"vector-effect: non-scaling-stroke; opacity: 1; stroke-width: 0.5px; fill: rgb(99, 110, 250); fill-opacity: 1; stroke: rgb(229, 236, 246); stroke-opacity: 1;\"/></g></g></g><g class=\"trace bars\" style=\"opacity: 1;\"><g class=\"points\"><g class=\"point\"><path d=\"M299.7,203V80.56H321.3V203Z\" style=\"vector-effect: non-scaling-stroke; opacity: 1; stroke-width: 0.5px; fill: rgb(239, 85, 59); fill-opacity: 1; stroke: rgb(229, 236, 246); stroke-opacity: 1;\"/></g></g></g><g class=\"trace bars\" style=\"opacity: 1;\"><g class=\"points\"><g class=\"point\"><path d=\"M326.7,203V52.46H348.3V203Z\" style=\"vector-effect: non-scaling-stroke; opacity: 1; stroke-width: 0.5px; fill: rgb(0, 204, 150); fill-opacity: 1; stroke: rgb(229, 236, 246); stroke-opacity: 1;\"/></g></g></g><g class=\"trace bars\" style=\"opacity: 1;\"><g class=\"points\"><g class=\"point\"><path d=\"M353.7,203V92.36H375.3V203Z\" style=\"vector-effect: non-scaling-stroke; opacity: 1; stroke-width: 0.5px; fill: rgb(171, 99, 250); fill-opacity: 1; stroke: rgb(229, 236, 246); stroke-opacity: 1;\"/></g></g></g><g class=\"trace bars\" style=\"opacity: 1;\"><g class=\"points\"><g class=\"point\"><path d=\"M380.7,203V97.48H402.3V203Z\" style=\"vector-effect: non-scaling-stroke; opacity: 1; stroke-width: 0.5px; fill: rgb(255, 161, 90); fill-opacity: 1; stroke: rgb(229, 236, 246); stroke-opacity: 1;\"/></g></g></g><g class=\"trace bars\" style=\"opacity: 1;\"><g class=\"points\"><g class=\"point\"><path d=\"M407.7,203V95.91H429.3V203Z\" style=\"vector-effect: non-scaling-stroke; opacity: 1; stroke-width: 0.5px; fill: rgb(25, 211, 243); fill-opacity: 1; stroke: rgb(229, 236, 246); stroke-opacity: 1;\"/></g></g></g><g class=\"trace bars\" style=\"opacity: 1;\"><g class=\"points\"><g class=\"point\"><path d=\"M434.7,203V106.66H456.3V203Z\" style=\"vector-effect: non-scaling-stroke; opacity: 1; stroke-width: 0.5px; fill: rgb(255, 102, 146); fill-opacity: 1; stroke: rgb(229, 236, 246); stroke-opacity: 1;\"/></g></g></g><g class=\"trace bars\" style=\"opacity: 1;\"><g class=\"points\"><g class=\"point\"><path d=\"M461.7,203V10.15H483.3V203Z\" style=\"vector-effect: non-scaling-stroke; opacity: 1; stroke-width: 0.5px; fill: rgb(182, 232, 128); fill-opacity: 1; stroke: rgb(229, 236, 246); stroke-opacity: 1;\"/></g></g></g><g class=\"trace bars\" style=\"opacity: 1;\"><g class=\"points\"><g class=\"point\"><path d=\"M488.7,203V136.28H510.3V203Z\" style=\"vector-effect: non-scaling-stroke; opacity: 1; stroke-width: 0.5px; fill: rgb(255, 151, 255); fill-opacity: 1; stroke: rgb(229, 236, 246); stroke-opacity: 1;\"/></g></g></g><g class=\"trace bars\" style=\"opacity: 1;\"><g class=\"points\"><g class=\"point\"><path d=\"M515.7,203V123.64H537.3V203Z\" style=\"vector-effect: non-scaling-stroke; opacity: 1; stroke-width: 0.5px; fill: rgb(254, 203, 82); fill-opacity: 1; stroke: rgb(229, 236, 246); stroke-opacity: 1;\"/></g></g></g></g></g><g class=\"overplot\"/><path class=\"xlines-above crisp\" d=\"M0,0\" style=\"fill: none;\"/><path class=\"ylines-above crisp\" d=\"M0,0\" style=\"fill: none;\"/><g class=\"overlines-above\"/><g class=\"xaxislayer-above\"><g class=\"xtick\"><text text-anchor=\"start\" x=\"0\" y=\"276\" transform=\"translate(93.5,0) rotate(90,0,270)\" style=\"font-family: 'Open Sans', verdana, arial, sans-serif; font-size: 12px; fill: rgb(42, 63, 95); fill-opacity: 1; white-space: pre;\">misc.forsale</text></g><g class=\"xtick\"><text text-anchor=\"start\" x=\"0\" y=\"276\" transform=\"translate(120.5,0) rotate(90,0,270)\" style=\"font-family: 'Open Sans', verdana, arial, sans-serif; font-size: 12px; fill: rgb(42, 63, 95); fill-opacity: 1; white-space: pre;\">rec.sport.baseball</text></g><g class=\"xtick\"><text text-anchor=\"start\" x=\"0\" y=\"276\" transform=\"translate(147.5,0) rotate(90,0,270)\" style=\"font-family: 'Open Sans', verdana, arial, sans-serif; font-size: 12px; fill: rgb(42, 63, 95); fill-opacity: 1; white-space: pre;\">sci.electronics</text></g><g class=\"xtick\"><text text-anchor=\"start\" x=\"0\" y=\"276\" transform=\"translate(174.5,0) rotate(90,0,270)\" style=\"font-family: 'Open Sans', verdana, arial, sans-serif; font-size: 12px; fill: rgb(42, 63, 95); fill-opacity: 1; white-space: pre;\">comp.sys.ibm.pc.hardware</text></g><g class=\"xtick\"><text text-anchor=\"start\" x=\"0\" y=\"276\" transform=\"translate(201.5,0) rotate(90,0,270)\" style=\"font-family: 'Open Sans', verdana, arial, sans-serif; font-size: 12px; fill: rgb(42, 63, 95); fill-opacity: 1; white-space: pre;\">comp.sys.mac.hardware</text></g><g class=\"xtick\"><text text-anchor=\"start\" x=\"0\" y=\"276\" transform=\"translate(228.5,0) rotate(90,0,270)\" style=\"font-family: 'Open Sans', verdana, arial, sans-serif; font-size: 12px; fill: rgb(42, 63, 95); fill-opacity: 1; white-space: pre;\">talk.politics.misc</text></g><g class=\"xtick\"><text text-anchor=\"start\" x=\"0\" y=\"276\" transform=\"translate(255.5,0) rotate(90,0,270)\" style=\"font-family: 'Open Sans', verdana, arial, sans-serif; font-size: 12px; fill: rgb(42, 63, 95); fill-opacity: 1; white-space: pre;\">talk.politics.guns</text></g><g class=\"xtick\"><text text-anchor=\"start\" x=\"0\" y=\"276\" transform=\"translate(282.5,0) rotate(90,0,270)\" style=\"font-family: 'Open Sans', verdana, arial, sans-serif; font-size: 12px; fill: rgb(42, 63, 95); fill-opacity: 1; white-space: pre;\">rec.sport.hockey</text></g><g class=\"xtick\"><text text-anchor=\"start\" x=\"0\" y=\"276\" transform=\"translate(309.5,0) rotate(90,0,270)\" style=\"font-family: 'Open Sans', verdana, arial, sans-serif; font-size: 12px; fill: rgb(42, 63, 95); fill-opacity: 1; white-space: pre;\">alt.atheism</text></g><g class=\"xtick\"><text text-anchor=\"start\" x=\"0\" y=\"276\" transform=\"translate(336.5,0) rotate(90,0,270)\" style=\"font-family: 'Open Sans', verdana, arial, sans-serif; font-size: 12px; fill: rgb(42, 63, 95); fill-opacity: 1; white-space: pre;\">rec.motorcycles</text></g><g class=\"xtick\"><text text-anchor=\"start\" x=\"0\" y=\"276\" transform=\"translate(363.5,0) rotate(90,0,270)\" style=\"font-family: 'Open Sans', verdana, arial, sans-serif; font-size: 12px; fill: rgb(42, 63, 95); fill-opacity: 1; white-space: pre;\">talk.religion.misc</text></g><g class=\"xtick\"><text text-anchor=\"start\" x=\"0\" y=\"276\" transform=\"translate(390.5,0) rotate(90,0,270)\" style=\"font-family: 'Open Sans', verdana, arial, sans-serif; font-size: 12px; fill: rgb(42, 63, 95); fill-opacity: 1; white-space: pre;\">sci.crypt</text></g><g class=\"xtick\"><text text-anchor=\"start\" x=\"0\" y=\"276\" transform=\"translate(417.5,0) rotate(90,0,270)\" style=\"font-family: 'Open Sans', verdana, arial, sans-serif; font-size: 12px; fill: rgb(42, 63, 95); fill-opacity: 1; white-space: pre;\">soc.religion.christian</text></g><g class=\"xtick\"><text text-anchor=\"start\" x=\"0\" y=\"276\" transform=\"translate(444.5,0) rotate(90,0,270)\" style=\"font-family: 'Open Sans', verdana, arial, sans-serif; font-size: 12px; fill: rgb(42, 63, 95); fill-opacity: 1; white-space: pre;\">sci.med</text></g><g class=\"xtick\"><text text-anchor=\"start\" x=\"0\" y=\"276\" transform=\"translate(471.5,0) rotate(90,0,270)\" style=\"font-family: 'Open Sans', verdana, arial, sans-serif; font-size: 12px; fill: rgb(42, 63, 95); fill-opacity: 1; white-space: pre;\">comp.windows.x</text></g><g class=\"xtick\"><text text-anchor=\"start\" x=\"0\" y=\"276\" transform=\"translate(498.5,0) rotate(90,0,270)\" style=\"font-family: 'Open Sans', verdana, arial, sans-serif; font-size: 12px; fill: rgb(42, 63, 95); fill-opacity: 1; white-space: pre;\">sci.space</text></g><g class=\"xtick\"><text text-anchor=\"start\" x=\"0\" y=\"276\" transform=\"translate(525.5,0) rotate(90,0,270)\" style=\"font-family: 'Open Sans', verdana, arial, sans-serif; font-size: 12px; fill: rgb(42, 63, 95); fill-opacity: 1; white-space: pre;\">comp.graphics</text></g><g class=\"xtick\"><text text-anchor=\"start\" x=\"0\" y=\"276\" transform=\"translate(552.5,0) rotate(90,0,270)\" style=\"font-family: 'Open Sans', verdana, arial, sans-serif; font-size: 12px; fill: rgb(42, 63, 95); fill-opacity: 1; white-space: pre;\">talk.politics.mideast</text></g><g class=\"xtick\"><text text-anchor=\"start\" x=\"0\" y=\"276\" transform=\"translate(579.5,0) rotate(90,0,270)\" style=\"font-family: 'Open Sans', verdana, arial, sans-serif; font-size: 12px; fill: rgb(42, 63, 95); fill-opacity: 1; white-space: pre;\">comp.os.ms-windows.misc</text></g><g class=\"xtick\"><text text-anchor=\"start\" x=\"0\" y=\"276\" transform=\"translate(606.5,0) rotate(90,0,270)\" style=\"font-family: 'Open Sans', verdana, arial, sans-serif; font-size: 12px; fill: rgb(42, 63, 95); fill-opacity: 1; white-space: pre;\">rec.autos</text></g></g><g class=\"yaxislayer-above\"><g class=\"ytick\"><text text-anchor=\"end\" x=\"79\" y=\"4.199999999999999\" transform=\"translate(0,263)\" style=\"font-family: 'Open Sans', verdana, arial, sans-serif; font-size: 12px; fill: rgb(42, 63, 95); fill-opacity: 1; white-space: pre;\">0</text></g><g class=\"ytick\"><text text-anchor=\"end\" x=\"79\" y=\"4.199999999999999\" transform=\"translate(0,222.16)\" style=\"font-family: 'Open Sans', verdana, arial, sans-serif; font-size: 12px; fill: rgb(42, 63, 95); fill-opacity: 1; white-space: pre;\">100</text></g><g class=\"ytick\"><text text-anchor=\"end\" x=\"79\" y=\"4.199999999999999\" transform=\"translate(0,181.32)\" style=\"font-family: 'Open Sans', verdana, arial, sans-serif; font-size: 12px; fill: rgb(42, 63, 95); fill-opacity: 1; white-space: pre;\">200</text></g><g class=\"ytick\"><text text-anchor=\"end\" x=\"79\" y=\"4.199999999999999\" transform=\"translate(0,140.48000000000002)\" style=\"font-family: 'Open Sans', verdana, arial, sans-serif; font-size: 12px; fill: rgb(42, 63, 95); fill-opacity: 1; white-space: pre;\">300</text></g><g class=\"ytick\"><text text-anchor=\"end\" x=\"79\" y=\"4.199999999999999\" transform=\"translate(0,99.65)\" style=\"font-family: 'Open Sans', verdana, arial, sans-serif; font-size: 12px; fill: rgb(42, 63, 95); fill-opacity: 1; white-space: pre;\">400</text></g></g><g class=\"overaxes-above\"/></g></g><g class=\"polarlayer\"/><g class=\"ternarylayer\"/><g class=\"geolayer\"/><g class=\"funnelarealayer\"/><g class=\"pielayer\"/><g class=\"treemaplayer\"/><g class=\"sunburstlayer\"/><g class=\"glimages\"/><defs id=\"topdefs-dbda59\"><g class=\"clips\"/></defs><g class=\"layer-above\"><g class=\"imagelayer\"/><g class=\"shapelayer\"/></g><g class=\"infolayer\"><g class=\"g-gtitle\"><text class=\"gtitle\" x=\"350\" y=\"30\" text-anchor=\"middle\" dy=\"0.7em\" style=\"font-family: 'Open Sans', verdana, arial, sans-serif; font-size: 17px; fill: rgb(42, 63, 95); opacity: 1; font-weight: normal; white-space: pre;\">Average document word length by Category</text></g><g class=\"g-xtitle\"><text class=\"xtitle\" x=\"350\" y=\"437.846875\" text-anchor=\"middle\" style=\"font-family: 'Open Sans', verdana, arial, sans-serif; font-size: 14px; fill: rgb(42, 63, 95); opacity: 1; font-weight: normal; white-space: pre;\">News category</text></g><g class=\"g-ytitle\"><text class=\"ytitle\" transform=\"rotate(-90,34.16875,161.5)\" x=\"34.16875\" y=\"161.5\" text-anchor=\"middle\" style=\"font-family: 'Open Sans', verdana, arial, sans-serif; font-size: 14px; fill: rgb(42, 63, 95); opacity: 1; font-weight: normal; white-space: pre;\">Average word count</text></g></g></svg>"
          },
          "metadata": {
            "tags": []
          }
        }
      ]
    },
    {
      "cell_type": "markdown",
      "metadata": {
        "id": "8tXc5LhtJIVx"
      },
      "source": [
        "From above figure, number of words in a document varies from category to category.\n",
        "\n",
        "Category misc.forsale has minimum number of words per document: 114\n",
        "\n",
        "Categories talk.politics.mideast has maximum number of words per document: 472\n",
        "\n",
        "This helps in choosing the sequence length or embedding length while building machine learning models.\n"
      ]
    },
    {
      "cell_type": "markdown",
      "metadata": {
        "id": "-OXOCeSwJIVx"
      },
      "source": [
        "# Most frequent words in each news group"
      ]
    },
    {
      "cell_type": "code",
      "metadata": {
        "id": "IMNQpmGJJIVx",
        "outputId": "2d12ad87-fca5-45a1-9f19-a891b3f0a2e6",
        "colab": {
          "base_uri": "https://localhost:8080/",
          "height": 397
        }
      },
      "source": [
        "frequent_words = {}\n",
        "\n",
        "for i in word_dictionary:\n",
        "    doc = word_dictionary[i]\n",
        "    doc_counter = collections.Counter([word for word in doc.split() if word not in stop_words and len(word) > 2])\n",
        "    most_freq = list(doc_counter.most_common(10))\n",
        "    most_freq = list(zip(*most_freq))\n",
        "    frequent_words[i] = most_freq[0]\n",
        "    \n",
        "most_frequent_words = pd.DataFrame(frequent_words)\n",
        "print('Top 10 most frequent words in each news group:')\n",
        "most_frequent_words"
      ],
      "execution_count": null,
      "outputs": [
        {
          "output_type": "stream",
          "text": [
            "Top 10 most frequent words in each news group:\n"
          ],
          "name": "stdout"
        },
        {
          "output_type": "execute_result",
          "data": {
            "text/html": [
              "<div>\n",
              "<style scoped>\n",
              "    .dataframe tbody tr th:only-of-type {\n",
              "        vertical-align: middle;\n",
              "    }\n",
              "\n",
              "    .dataframe tbody tr th {\n",
              "        vertical-align: top;\n",
              "    }\n",
              "\n",
              "    .dataframe thead th {\n",
              "        text-align: right;\n",
              "    }\n",
              "</style>\n",
              "<table border=\"1\" class=\"dataframe\">\n",
              "  <thead>\n",
              "    <tr style=\"text-align: right;\">\n",
              "      <th></th>\n",
              "      <th>misc.forsale</th>\n",
              "      <th>rec.sport.baseball</th>\n",
              "      <th>sci.electronics</th>\n",
              "      <th>comp.sys.ibm.pc.hardware</th>\n",
              "      <th>comp.sys.mac.hardware</th>\n",
              "      <th>talk.politics.misc</th>\n",
              "      <th>talk.politics.guns</th>\n",
              "      <th>rec.sport.hockey</th>\n",
              "      <th>alt.atheism</th>\n",
              "      <th>rec.motorcycles</th>\n",
              "      <th>talk.religion.misc</th>\n",
              "      <th>sci.crypt</th>\n",
              "      <th>soc.religion.christian</th>\n",
              "      <th>sci.med</th>\n",
              "      <th>comp.windows.x</th>\n",
              "      <th>sci.space</th>\n",
              "      <th>comp.graphics</th>\n",
              "      <th>talk.politics.mideast</th>\n",
              "      <th>comp.os.ms-windows.misc</th>\n",
              "      <th>rec.autos</th>\n",
              "    </tr>\n",
              "  </thead>\n",
              "  <tbody>\n",
              "    <tr>\n",
              "      <th>0</th>\n",
              "      <td>mail</td>\n",
              "      <td>think</td>\n",
              "      <td>used</td>\n",
              "      <td>scsi</td>\n",
              "      <td>mac</td>\n",
              "      <td>think</td>\n",
              "      <td>gun</td>\n",
              "      <td>game</td>\n",
              "      <td>god</td>\n",
              "      <td>dod</td>\n",
              "      <td>god</td>\n",
              "      <td>key</td>\n",
              "      <td>god</td>\n",
              "      <td>medical</td>\n",
              "      <td>window</td>\n",
              "      <td>space</td>\n",
              "      <td>image</td>\n",
              "      <td>armenian</td>\n",
              "      <td>windows</td>\n",
              "      <td>car</td>\n",
              "    </tr>\n",
              "    <tr>\n",
              "      <th>1</th>\n",
              "      <td>asking</td>\n",
              "      <td>team</td>\n",
              "      <td>need</td>\n",
              "      <td>drive</td>\n",
              "      <td>apple</td>\n",
              "      <td>government</td>\n",
              "      <td>think</td>\n",
              "      <td>team</td>\n",
              "      <td>think</td>\n",
              "      <td>bike</td>\n",
              "      <td>think</td>\n",
              "      <td>encryption</td>\n",
              "      <td>think</td>\n",
              "      <td>health</td>\n",
              "      <td>file</td>\n",
              "      <td>launch</td>\n",
              "      <td>graphics</td>\n",
              "      <td>turkish</td>\n",
              "      <td>dos</td>\n",
              "      <td>cars</td>\n",
              "    </tr>\n",
              "    <tr>\n",
              "      <th>2</th>\n",
              "      <td>sale</td>\n",
              "      <td>game</td>\n",
              "      <td>power</td>\n",
              "      <td>ide</td>\n",
              "      <td>drive</td>\n",
              "      <td>mr.</td>\n",
              "      <td>fbi</td>\n",
              "      <td>hockey</td>\n",
              "      <td>believe</td>\n",
              "      <td>ride</td>\n",
              "      <td>jesus</td>\n",
              "      <td>government</td>\n",
              "      <td>jesus</td>\n",
              "      <td>think</td>\n",
              "      <td>server</td>\n",
              "      <td>nasa</td>\n",
              "      <td>jpeg</td>\n",
              "      <td>israel</td>\n",
              "      <td>file</td>\n",
              "      <td>think</td>\n",
              "    </tr>\n",
              "    <tr>\n",
              "      <th>3</th>\n",
              "      <td>shipping</td>\n",
              "      <td>year</td>\n",
              "      <td>want</td>\n",
              "      <td>card</td>\n",
              "      <td>problem</td>\n",
              "      <td>president</td>\n",
              "      <td>government</td>\n",
              "      <td>play</td>\n",
              "      <td>objective</td>\n",
              "      <td>think</td>\n",
              "      <td>believe</td>\n",
              "      <td>clipper</td>\n",
              "      <td>believe</td>\n",
              "      <td>patients</td>\n",
              "      <td>motif</td>\n",
              "      <td>think</td>\n",
              "      <td>bit</td>\n",
              "      <td>israeli</td>\n",
              "      <td>run</td>\n",
              "      <td>engine</td>\n",
              "    </tr>\n",
              "    <tr>\n",
              "      <th>4</th>\n",
              "      <td>price</td>\n",
              "      <td>baseball</td>\n",
              "      <td>ground</td>\n",
              "      <td>bus</td>\n",
              "      <td>bit</td>\n",
              "      <td>going</td>\n",
              "      <td>guns</td>\n",
              "      <td>think</td>\n",
              "      <td>moral</td>\n",
              "      <td>bmw</td>\n",
              "      <td>objective</td>\n",
              "      <td>chip</td>\n",
              "      <td>church</td>\n",
              "      <td>disease</td>\n",
              "      <td>program</td>\n",
              "      <td>shuttle</td>\n",
              "      <td>file</td>\n",
              "      <td>armenians</td>\n",
              "      <td>files</td>\n",
              "      <td>ford</td>\n",
              "    </tr>\n",
              "    <tr>\n",
              "      <th>5</th>\n",
              "      <td>dos</td>\n",
              "      <td>hit</td>\n",
              "      <td>circuit</td>\n",
              "      <td>controller</td>\n",
              "      <td>scsi</td>\n",
              "      <td>want</td>\n",
              "      <td>believe</td>\n",
              "      <td>games</td>\n",
              "      <td>time</td>\n",
              "      <td>got</td>\n",
              "      <td>time</td>\n",
              "      <td>public</td>\n",
              "      <td>christian</td>\n",
              "      <td>time</td>\n",
              "      <td>windows</td>\n",
              "      <td>earth</td>\n",
              "      <td>data</td>\n",
              "      <td>jews</td>\n",
              "      <td>program</td>\n",
              "      <td>car.</td>\n",
              "    </tr>\n",
              "    <tr>\n",
              "      <th>6</th>\n",
              "      <td>email</td>\n",
              "      <td>time</td>\n",
              "      <td>think</td>\n",
              "      <td>hard</td>\n",
              "      <td>power</td>\n",
              "      <td>stephanopoulos</td>\n",
              "      <td>law</td>\n",
              "      <td>win</td>\n",
              "      <td>religion</td>\n",
              "      <td>riding</td>\n",
              "      <td>want</td>\n",
              "      <td>security</td>\n",
              "      <td>christians</td>\n",
              "      <td>cancer</td>\n",
              "      <td>available</td>\n",
              "      <td>solar</td>\n",
              "      <td>available</td>\n",
              "      <td>jewish</td>\n",
              "      <td>win</td>\n",
              "      <td>oil</td>\n",
              "    </tr>\n",
              "    <tr>\n",
              "      <th>7</th>\n",
              "      <td>drive</td>\n",
              "      <td>games</td>\n",
              "      <td>copy</td>\n",
              "      <td>disk</td>\n",
              "      <td>monitor</td>\n",
              "      <td>believe</td>\n",
              "      <td>batf</td>\n",
              "      <td>players</td>\n",
              "      <td>evidence</td>\n",
              "      <td>time</td>\n",
              "      <td>christian</td>\n",
              "      <td>keys</td>\n",
              "      <td>bible</td>\n",
              "      <td>information</td>\n",
              "      <td>sun</td>\n",
              "      <td>time</td>\n",
              "      <td>color</td>\n",
              "      <td>arab</td>\n",
              "      <td>driver</td>\n",
              "      <td>used</td>\n",
              "    </tr>\n",
              "    <tr>\n",
              "      <th>8</th>\n",
              "      <td>sell</td>\n",
              "      <td>players</td>\n",
              "      <td>phone</td>\n",
              "      <td>dos</td>\n",
              "      <td>mhz</td>\n",
              "      <td>time</td>\n",
              "      <td>weapons</td>\n",
              "      <td>season</td>\n",
              "      <td>frank</td>\n",
              "      <td>motorcycle</td>\n",
              "      <td>theory</td>\n",
              "      <td>law</td>\n",
              "      <td>time</td>\n",
              "      <td>used</td>\n",
              "      <td>set</td>\n",
              "      <td>orbit</td>\n",
              "      <td>images</td>\n",
              "      <td>armenia</td>\n",
              "      <td>problem</td>\n",
              "      <td>speed</td>\n",
              "    </tr>\n",
              "    <tr>\n",
              "      <th>9</th>\n",
              "      <td>offer</td>\n",
              "      <td>runs</td>\n",
              "      <td>work</td>\n",
              "      <td>bit</td>\n",
              "      <td>need</td>\n",
              "      <td>health</td>\n",
              "      <td>time</td>\n",
              "      <td>period</td>\n",
              "      <td>atheists</td>\n",
              "      <td>dog</td>\n",
              "      <td>bible</td>\n",
              "      <td>used</td>\n",
              "      <td>christ</td>\n",
              "      <td>food</td>\n",
              "      <td>widget</td>\n",
              "      <td>data</td>\n",
              "      <td>software</td>\n",
              "      <td>government</td>\n",
              "      <td>card</td>\n",
              "      <td>dealer</td>\n",
              "    </tr>\n",
              "  </tbody>\n",
              "</table>\n",
              "</div>"
            ],
            "text/plain": [
              "  misc.forsale rec.sport.baseball  ... comp.os.ms-windows.misc rec.autos\n",
              "0         mail              think  ...                 windows       car\n",
              "1       asking               team  ...                     dos      cars\n",
              "2         sale               game  ...                    file     think\n",
              "3     shipping               year  ...                     run    engine\n",
              "4        price           baseball  ...                   files      ford\n",
              "5          dos                hit  ...                 program      car.\n",
              "6        email               time  ...                     win       oil\n",
              "7        drive              games  ...                  driver      used\n",
              "8         sell            players  ...                 problem     speed\n",
              "9        offer               runs  ...                    card    dealer\n",
              "\n",
              "[10 rows x 20 columns]"
            ]
          },
          "metadata": {
            "tags": []
          },
          "execution_count": 17
        }
      ]
    },
    {
      "cell_type": "code",
      "metadata": {
        "id": "zkcYJRHEJIV0"
      },
      "source": [
        ""
      ],
      "execution_count": null,
      "outputs": []
    },
    {
      "cell_type": "markdown",
      "metadata": {
        "id": "fk6FGn6VJIV_"
      },
      "source": [
        "## Comparision of most frequent words of alt.atheism and talk.religion.misc\n"
      ]
    },
    {
      "cell_type": "code",
      "metadata": {
        "scrolled": false,
        "id": "_GxmxYBLJIWA",
        "outputId": "a51b3408-90ea-4e99-e779-5bdc1000f964",
        "colab": {
          "base_uri": "https://localhost:8080/",
          "height": 467
        }
      },
      "source": [
        "fig = make_subplots(rows=1, cols=2,subplot_titles=(\"alt.atheism\", \"talk.religion.misc\"))\n",
        "\n",
        "# Plot top 10 most frequent words\n",
        "def most_frequent_words_plot(i,cur_col):\n",
        "    doc = word_dictionary[i]\n",
        "    doc_counter = collections.Counter([word for word in doc.split() if word not in stop_words and len(word) > 2])\n",
        "    most_freq = list(doc_counter.most_common(10))\n",
        "    most_freq = list(zip(*most_freq))\n",
        "    df_mf = pd.DataFrame({'word':most_freq[0], 'frequency':most_freq[1]})\n",
        "    fig.add_trace(go.Bar(x = df_mf.word,y = df_mf.frequency),row=1, col=cur_col)\n",
        "        \n",
        "cur_col = 1\n",
        "for category in ('alt.atheism','talk.religion.misc'):\n",
        "    most_frequent_words_plot(category,cur_col)\n",
        "    cur_col += 1\n",
        "        \n",
        "# Update xaxis properties\n",
        "fig.update_xaxes(title_text=\"Top 10 most freq words\", row=1, col=1)\n",
        "fig.update_xaxes(title_text=\"Top 10 most freq words\", row=1, col=2)\n",
        "\n",
        "# Update yaxis properties\n",
        "fig.update_yaxes(title_text='Number of occurences', row=1, col=1)\n",
        "\n",
        "fig.update_layout(\n",
        "    plot_bgcolor='linen')\n",
        "fig.show()\n",
        "    "
      ],
      "execution_count": null,
      "outputs": [
        {
          "output_type": "display_data",
          "data": {
            "image/png": "[encoded data removed]"
          },
          "metadata": {
            "tags": []
          }
        }
      ]
    },
    {
      "cell_type": "markdown",
      "metadata": {
        "id": "Abr4h-WrJIWC"
      },
      "source": [
        "As we can see from above plot, most frequent words of atheism and religion are very close! \n",
        "\n",
        "Words 'god','think','believe','objective' and 'time' are present in top 10 most frequent recurring words like of both atheism and religion categories. Similarly categories like politics.misc and politics.mideast are closely related. \n",
        "\n",
        "These observations later turned out to be crucial in building ML models. Any traditional machine learning model is not capable of capturing the context of the text. When we use bag of words or it's variations, we loose contextual meaning of the sentence. But the primary thing to consider here is few categories are closely realted. So using BOW or any traditional tokenizers, same words are repeated and thus model is confused easily while predicting the categories. This prompted me to choose distil-bert to build the model as it uses contextual embeddings."
      ]
    }
  ]
}